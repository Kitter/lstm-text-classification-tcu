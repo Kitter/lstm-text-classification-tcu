{
 "cells": [
  {
   "cell_type": "code",
   "execution_count": 7,
   "metadata": {
    "collapsed": false
   },
   "outputs": [
    {
     "name": "stdout",
     "output_type": "stream",
     "text": [
      "The autoreload extension is already loaded. To reload it, use:\n",
      "  %reload_ext autoreload\n"
     ]
    }
   ],
   "source": [
    "%load_ext autoreload\n",
    "%autoreload 2"
   ]
  },
  {
   "cell_type": "code",
   "execution_count": 8,
   "metadata": {
    "collapsed": false
   },
   "outputs": [],
   "source": [
    "from utils import *\n",
    "import pandas as pd\n",
    "import numpy as np\n",
    "\n",
    "from keras.models import Model\n",
    "from keras.layers import Dense, Input, Dropout, LSTM, Activation\n",
    "from keras.layers.embeddings import Embedding\n",
    "from keras.preprocessing import sequence\n",
    "from keras.initializers import glorot_uniform\n"
   ]
  },
  {
   "cell_type": "code",
   "execution_count": 3,
   "metadata": {
    "collapsed": false
   },
   "outputs": [],
   "source": [
    "# %pdb"
   ]
  },
  {
   "cell_type": "code",
   "execution_count": 4,
   "metadata": {
    "collapsed": false
   },
   "outputs": [],
   "source": [
    "glove = '../glove_s300.txt'\n",
    "log = '../log_glove.txt'\n",
    "words_to_index, index_to_words, word_to_vec_map = read_glove_vecs(glove, log)"
   ]
  },
  {
   "cell_type": "code",
   "execution_count": 5,
   "metadata": {
    "collapsed": false
   },
   "outputs": [
    {
     "name": "stdout",
     "output_type": "stream",
     "text": [
      "the index of constitucional in the vocabulary is 201873\n",
      "the 28989th word in the vocabulary is afunilava-se\n"
     ]
    }
   ],
   "source": [
    "word = \"constitucional\"\n",
    "index = 28989\n",
    "print(\"the index of\", word, \"in the vocabulary is\", words_to_index[word])\n",
    "print(\"the\", str(index) + \"th word in the vocabulary is\", index_to_words[index])"
   ]
  },
  {
   "cell_type": "code",
   "execution_count": 11,
   "metadata": {
    "collapsed": false
   },
   "outputs": [],
   "source": [
    "# load X and Y\n",
    "max_len = 100\n",
    "data_files = !ls ../data\n",
    "X, Y = getXY(data_files)\n",
    "Y_ohe, Y_idx, klass_to_idx, idx_to_klass = convert_to_one_hot(Y)\n",
    "X_indices = sentences_to_indices(X, words_to_index, max_len)"
   ]
  },
  {
   "cell_type": "code",
   "execution_count": 12,
   "metadata": {
    "collapsed": false
   },
   "outputs": [],
   "source": [
    "def pretrained_embedding_layer(word_to_vec_map, word_to_index):\n",
    "    \"\"\"\n",
    "    Creates a Keras Embedding() layer and loads in pre-trained GloVe 50-dimensional vectors.\n",
    "    \n",
    "    Arguments:\n",
    "    word_to_vec_map -- dictionary mapping words to their GloVe vector representation.\n",
    "    word_to_index -- dictionary mapping from words to their indices in the vocabulary (400,001 words)\n",
    "\n",
    "    Returns:\n",
    "    embedding_layer -- pretrained layer Keras instance\n",
    "    \"\"\"\n",
    "    \n",
    "    vocab_len = len(word_to_index) + 1                  # adding 1 to fit Keras embedding (requirement)\n",
    "    emb_dim = word_to_vec_map[\"cucumber\"].shape[0]      # define dimensionality of your GloVe word vectors (= 50)\n",
    "    \n",
    "    # Initialize the embedding matrix as a numpy array of zeros of shape (vocab_len, dimensions of word vectors = emb_dim)\n",
    "    emb_matrix = np.zeros((vocab_len, emb_dim))\n",
    "    \n",
    "    # Set each row \"index\" of the embedding matrix to be the word vector representation of the \"index\"th word of the vocabulary\n",
    "    for word, index in word_to_index.items():\n",
    "        try:\n",
    "            emb_matrix[index, :] = word_to_vec_map[word]\n",
    "        except:\n",
    "            pass\n",
    "\n",
    "    # Define Keras embedding layer with the correct output/input sizes. Use Embedding(...). Make sure to set trainable=False. \n",
    "    embedding_layer = Embedding(input_dim=vocab_len, output_dim=emb_dim, trainable=False)\n",
    "\n",
    "    # Build the embedding layer, it is required before setting the weights of the embedding layer. Do not modify the \"None\".\n",
    "    embedding_layer.build((None,))\n",
    "    \n",
    "    # Set the weights of the embedding layer to the embedding matrix. Your layer is now pretrained.\n",
    "    embedding_layer.set_weights([emb_matrix])\n",
    "    \n",
    "    return embedding_layer"
   ]
  },
  {
   "cell_type": "code",
   "execution_count": 13,
   "metadata": {
    "collapsed": false
   },
   "outputs": [
    {
     "name": "stdout",
     "output_type": "stream",
     "text": [
      "weights[0][1][3] = 0.425183\n"
     ]
    }
   ],
   "source": [
    "embedding_layer = pretrained_embedding_layer(word_to_vec_map, words_to_index)\n",
    "print(\"weights[0][1][3] =\", embedding_layer.get_weights()[0][1][3])"
   ]
  },
  {
   "cell_type": "code",
   "execution_count": 14,
   "metadata": {
    "collapsed": true
   },
   "outputs": [],
   "source": [
    "def create_model(input_shape, word_to_vec_map, word_to_index):\n",
    "    \"\"\"\n",
    "    Function creating the Emojify-v2 model's graph.\n",
    "    \n",
    "    Arguments:\n",
    "    input_shape -- shape of the input, usually (max_len,)\n",
    "    word_to_vec_map -- dictionary mapping every word in a vocabulary into its 50-dimensional vector representation\n",
    "    word_to_index -- dictionary mapping from words to their indices in the vocabulary (400,001 words)\n",
    "\n",
    "    Returns:\n",
    "    model -- a model instance in Keras\n",
    "    \"\"\"\n",
    "    \n",
    "    # Define sentence_indices as the input of the graph, it should be of shape input_shape and dtype 'int32' (as it contains indices).\n",
    "    sentence_indices = Input(shape=input_shape, dtype='int32')\n",
    "    \n",
    "    # Create the embedding layer pretrained with GloVe Vectors (≈1 line)\n",
    "    embedding_layer = pretrained_embedding_layer(word_to_vec_map, word_to_index)\n",
    "    \n",
    "    # Propagate sentence_indices through your embedding layer, you get back the embeddings\n",
    "    embeddings = embedding_layer(sentence_indices)   \n",
    "    \n",
    "    # Propagate the embeddings through an LSTM layer with 128-dimensional hidden state\n",
    "    # Be careful, the returned output should be a batch of sequences.\n",
    "    X = LSTM(128, return_sequences=True)(embeddings)\n",
    "    # Add dropout with a probability of 0.5\n",
    "    X = Dropout(0.5)(X)\n",
    "    # Propagate X trough another LSTM layer with 128-dimensional hidden state\n",
    "    # Be careful, the returned output should be a single hidden state, not a batch of sequences.\n",
    "    X = LSTM(128, return_sequences=False)(X)\n",
    "    # Add dropout with a probability of 0.5\n",
    "    X = Dropout(0.5)(X)\n",
    "    # Propagate X through a Dense layer with softmax activation to get back a batch of 5-dimensional vectors.\n",
    "    X = Dense(17)(X)\n",
    "    # Add a softmax activation\n",
    "    X = Activation('softmax')(X)\n",
    "    \n",
    "    # Create Model instance which converts sentence_indices into X.\n",
    "    model = Model(input=sentence_indices, output=X)\n",
    "    \n",
    "    return model"
   ]
  },
  {
   "cell_type": "code",
   "execution_count": 15,
   "metadata": {
    "collapsed": false
   },
   "outputs": [
    {
     "name": "stdout",
     "output_type": "stream",
     "text": [
      "_________________________________________________________________\n",
      "Layer (type)                 Output Shape              Param #   \n",
      "=================================================================\n",
      "input_1 (InputLayer)         (None, 100)               0         \n",
      "_________________________________________________________________\n",
      "embedding_2 (Embedding)      (None, 100, 300)          279417900 \n",
      "_________________________________________________________________\n",
      "lstm_1 (LSTM)                (None, 100, 128)          219648    \n",
      "_________________________________________________________________\n",
      "dropout_1 (Dropout)          (None, 100, 128)          0         \n",
      "_________________________________________________________________\n",
      "lstm_2 (LSTM)                (None, 128)               131584    \n",
      "_________________________________________________________________\n",
      "dropout_2 (Dropout)          (None, 128)               0         \n",
      "_________________________________________________________________\n",
      "dense_1 (Dense)              (None, 17)                2193      \n",
      "_________________________________________________________________\n",
      "activation_1 (Activation)    (None, 17)                0         \n",
      "=================================================================\n",
      "Total params: 279,771,325\n",
      "Trainable params: 353,425\n",
      "Non-trainable params: 279,417,900\n",
      "_________________________________________________________________\n"
     ]
    },
    {
     "name": "stderr",
     "output_type": "stream",
     "text": [
      "/Users/lucasosouza/anaconda/envs/udacity/lib/python3.5/site-packages/ipykernel/__main__.py:39: UserWarning: Update your `Model` call to the Keras 2 API: `Model(outputs=Tensor(\"ac..., inputs=Tensor(\"in...)`\n"
     ]
    }
   ],
   "source": [
    "model = create_model((max_len,), word_to_vec_map, words_to_index)\n",
    "model.summary()"
   ]
  },
  {
   "cell_type": "code",
   "execution_count": 16,
   "metadata": {
    "collapsed": false
   },
   "outputs": [],
   "source": [
    "X_train, X_test, Y_train, Y_test = splitXY(X_indices, Y_ohe)"
   ]
  },
  {
   "cell_type": "code",
   "execution_count": 17,
   "metadata": {
    "collapsed": true
   },
   "outputs": [],
   "source": [
    "model.compile(loss='categorical_crossentropy', optimizer='adam', metrics=['accuracy'])"
   ]
  },
  {
   "cell_type": "code",
   "execution_count": 18,
   "metadata": {
    "collapsed": false
   },
   "outputs": [
    {
     "name": "stdout",
     "output_type": "stream",
     "text": [
      "Epoch 1/100\n",
      "9648/9648 [==============================] - 97s 10ms/step - loss: 2.2696 - acc: 0.2621\n",
      "Epoch 2/100\n",
      "9648/9648 [==============================] - 95s 10ms/step - loss: 2.2546 - acc: 0.2684\n",
      "Epoch 3/100\n",
      "9648/9648 [==============================] - 94s 10ms/step - loss: 2.2725 - acc: 0.2649\n",
      "Epoch 4/100\n",
      "9648/9648 [==============================] - 95s 10ms/step - loss: 2.2720 - acc: 0.2649\n",
      "Epoch 5/100\n",
      "9648/9648 [==============================] - 95s 10ms/step - loss: 2.2702 - acc: 0.2650\n",
      "Epoch 6/100\n",
      "9648/9648 [==============================] - 95s 10ms/step - loss: 2.2303 - acc: 0.2707\n",
      "Epoch 7/100\n",
      "9648/9648 [==============================] - 97s 10ms/step - loss: 1.9992 - acc: 0.3094\n",
      "Epoch 8/100\n",
      "9648/9648 [==============================] - 94s 10ms/step - loss: 1.7843 - acc: 0.3927\n",
      "Epoch 9/100\n",
      "9648/9648 [==============================] - 94s 10ms/step - loss: 1.6381 - acc: 0.4563\n",
      "Epoch 10/100\n",
      "9648/9648 [==============================] - 94s 10ms/step - loss: 1.6113 - acc: 0.4601\n",
      "Epoch 11/100\n",
      "9648/9648 [==============================] - 94s 10ms/step - loss: 1.5350 - acc: 0.4823\n",
      "Epoch 12/100\n",
      "9648/9648 [==============================] - 94s 10ms/step - loss: 1.4668 - acc: 0.5192\n",
      "Epoch 13/100\n",
      "9648/9648 [==============================] - 94s 10ms/step - loss: 1.3784 - acc: 0.5482\n",
      "Epoch 14/100\n",
      "9648/9648 [==============================] - 94s 10ms/step - loss: 1.3312 - acc: 0.5615\n",
      "Epoch 15/100\n",
      "9648/9648 [==============================] - 94s 10ms/step - loss: 1.3173 - acc: 0.5663\n",
      "Epoch 16/100\n",
      "9648/9648 [==============================] - 94s 10ms/step - loss: 1.2619 - acc: 0.5874\n",
      "Epoch 17/100\n",
      "9648/9648 [==============================] - 94s 10ms/step - loss: 1.2149 - acc: 0.6068\n",
      "Epoch 18/100\n",
      "9648/9648 [==============================] - 94s 10ms/step - loss: 1.1591 - acc: 0.6266\n",
      "Epoch 19/100\n",
      "9648/9648 [==============================] - 94s 10ms/step - loss: 1.1184 - acc: 0.6485\n",
      "Epoch 20/100\n",
      "9648/9648 [==============================] - 94s 10ms/step - loss: 1.0514 - acc: 0.6728\n",
      "Epoch 21/100\n",
      "9648/9648 [==============================] - 94s 10ms/step - loss: 1.0148 - acc: 0.6875\n",
      "Epoch 22/100\n",
      "9648/9648 [==============================] - 94s 10ms/step - loss: 0.9890 - acc: 0.6933\n",
      "Epoch 23/100\n",
      "9648/9648 [==============================] - 95s 10ms/step - loss: 0.9087 - acc: 0.7167\n",
      "Epoch 24/100\n",
      "9648/9648 [==============================] - 94s 10ms/step - loss: 0.8596 - acc: 0.7368\n",
      "Epoch 25/100\n",
      "9648/9648 [==============================] - 94s 10ms/step - loss: 0.8261 - acc: 0.7447\n",
      "Epoch 26/100\n",
      "9648/9648 [==============================] - 95s 10ms/step - loss: 0.7938 - acc: 0.7570\n",
      "Epoch 27/100\n",
      "9648/9648 [==============================] - 94s 10ms/step - loss: 0.7659 - acc: 0.7670\n",
      "Epoch 28/100\n",
      "9648/9648 [==============================] - 95s 10ms/step - loss: 0.7235 - acc: 0.7821\n",
      "Epoch 29/100\n",
      "9648/9648 [==============================] - 94s 10ms/step - loss: 0.7007 - acc: 0.7915\n",
      "Epoch 30/100\n",
      "9648/9648 [==============================] - 94s 10ms/step - loss: 0.6450 - acc: 0.8099\n",
      "Epoch 31/100\n",
      "9648/9648 [==============================] - 94s 10ms/step - loss: 0.6330 - acc: 0.8106\n",
      "Epoch 32/100\n",
      "9648/9648 [==============================] - 95s 10ms/step - loss: 0.5955 - acc: 0.8215\n",
      "Epoch 33/100\n",
      "9648/9648 [==============================] - 94s 10ms/step - loss: 0.5855 - acc: 0.8291\n",
      "Epoch 34/100\n",
      "9648/9648 [==============================] - 94s 10ms/step - loss: 0.5537 - acc: 0.8391\n",
      "Epoch 35/100\n",
      "9648/9648 [==============================] - 94s 10ms/step - loss: 0.5230 - acc: 0.8481\n",
      "Epoch 36/100\n",
      "9648/9648 [==============================] - 94s 10ms/step - loss: 0.5271 - acc: 0.8463\n",
      "Epoch 37/100\n",
      "9648/9648 [==============================] - 94s 10ms/step - loss: 0.4805 - acc: 0.8627\n",
      "Epoch 38/100\n",
      "9648/9648 [==============================] - 94s 10ms/step - loss: 0.4688 - acc: 0.8628\n",
      "Epoch 39/100\n",
      "9648/9648 [==============================] - 94s 10ms/step - loss: 0.4582 - acc: 0.8658\n",
      "Epoch 40/100\n",
      "9648/9648 [==============================] - 95s 10ms/step - loss: 0.4410 - acc: 0.8690\n",
      "Epoch 41/100\n",
      "9648/9648 [==============================] - 95s 10ms/step - loss: 0.4047 - acc: 0.8813\n",
      "Epoch 42/100\n",
      "9648/9648 [==============================] - 95s 10ms/step - loss: 0.3936 - acc: 0.8846\n",
      "Epoch 43/100\n",
      "9648/9648 [==============================] - 95s 10ms/step - loss: 0.3970 - acc: 0.8805\n",
      "Epoch 44/100\n",
      "9648/9648 [==============================] - 95s 10ms/step - loss: 0.3735 - acc: 0.8902\n",
      "Epoch 45/100\n",
      "9648/9648 [==============================] - 94s 10ms/step - loss: 0.3596 - acc: 0.8907\n",
      "Epoch 46/100\n",
      "9648/9648 [==============================] - 94s 10ms/step - loss: 0.3656 - acc: 0.8921\n",
      "Epoch 47/100\n",
      "9648/9648 [==============================] - 95s 10ms/step - loss: 0.3460 - acc: 0.8953\n",
      "Epoch 48/100\n",
      "9648/9648 [==============================] - 94s 10ms/step - loss: 0.3493 - acc: 0.8943\n",
      "Epoch 49/100\n",
      "9648/9648 [==============================] - 94s 10ms/step - loss: 0.3187 - acc: 0.9034\n",
      "Epoch 50/100\n",
      "9648/9648 [==============================] - 95s 10ms/step - loss: 0.3234 - acc: 0.8975\n",
      "Epoch 51/100\n",
      "9648/9648 [==============================] - 95s 10ms/step - loss: 0.2956 - acc: 0.9080\n",
      "Epoch 52/100\n",
      "9648/9648 [==============================] - 95s 10ms/step - loss: 0.2825 - acc: 0.9117\n",
      "Epoch 53/100\n",
      "9648/9648 [==============================] - 95s 10ms/step - loss: 0.2973 - acc: 0.9047\n",
      "Epoch 54/100\n",
      "9648/9648 [==============================] - 95s 10ms/step - loss: 0.2753 - acc: 0.9112\n",
      "Epoch 55/100\n",
      "9648/9648 [==============================] - 95s 10ms/step - loss: 0.2827 - acc: 0.9111\n",
      "Epoch 56/100\n",
      "9648/9648 [==============================] - 94s 10ms/step - loss: 0.2802 - acc: 0.9116\n",
      "Epoch 57/100\n",
      "9648/9648 [==============================] - 95s 10ms/step - loss: 0.2715 - acc: 0.9076\n",
      "Epoch 58/100\n",
      "9648/9648 [==============================] - 95s 10ms/step - loss: 0.2644 - acc: 0.9136\n",
      "Epoch 59/100\n",
      "9648/9648 [==============================] - 95s 10ms/step - loss: 0.2619 - acc: 0.9144\n",
      "Epoch 60/100\n",
      "9648/9648 [==============================] - 94s 10ms/step - loss: 0.2417 - acc: 0.9192\n",
      "Epoch 61/100\n",
      "9648/9648 [==============================] - 95s 10ms/step - loss: 0.2450 - acc: 0.9175\n",
      "Epoch 62/100\n",
      "9648/9648 [==============================] - 95s 10ms/step - loss: 0.2416 - acc: 0.9173\n",
      "Epoch 63/100\n",
      "9648/9648 [==============================] - 95s 10ms/step - loss: 0.2445 - acc: 0.9204\n",
      "Epoch 64/100\n",
      "9648/9648 [==============================] - 95s 10ms/step - loss: 0.2265 - acc: 0.9197\n",
      "Epoch 65/100\n",
      "9648/9648 [==============================] - 95s 10ms/step - loss: 0.2197 - acc: 0.9244\n",
      "Epoch 66/100\n",
      "9648/9648 [==============================] - 95s 10ms/step - loss: 0.2342 - acc: 0.9182\n",
      "Epoch 67/100\n",
      "9648/9648 [==============================] - 95s 10ms/step - loss: 0.2191 - acc: 0.9217\n",
      "Epoch 68/100\n",
      "9648/9648 [==============================] - 94s 10ms/step - loss: 0.2299 - acc: 0.9186\n",
      "Epoch 69/100\n",
      "9648/9648 [==============================] - 95s 10ms/step - loss: 0.2093 - acc: 0.9245\n",
      "Epoch 70/100\n",
      "9648/9648 [==============================] - 94s 10ms/step - loss: 0.1968 - acc: 0.9287\n",
      "Epoch 71/100\n",
      "9648/9648 [==============================] - 95s 10ms/step - loss: 0.1976 - acc: 0.9277\n",
      "Epoch 72/100\n",
      "9648/9648 [==============================] - 94s 10ms/step - loss: 0.2029 - acc: 0.9245\n",
      "Epoch 73/100\n",
      "9648/9648 [==============================] - 95s 10ms/step - loss: 0.2009 - acc: 0.9260\n",
      "Epoch 74/100\n",
      "9648/9648 [==============================] - 95s 10ms/step - loss: 0.2088 - acc: 0.9261\n",
      "Epoch 75/100\n",
      "9648/9648 [==============================] - 95s 10ms/step - loss: 0.1911 - acc: 0.9275\n",
      "Epoch 76/100\n",
      "9648/9648 [==============================] - 95s 10ms/step - loss: 0.1878 - acc: 0.9315\n",
      "Epoch 77/100\n",
      "9648/9648 [==============================] - 95s 10ms/step - loss: 0.2030 - acc: 0.9268\n",
      "Epoch 78/100\n",
      "9648/9648 [==============================] - 95s 10ms/step - loss: 0.1910 - acc: 0.9292\n",
      "Epoch 79/100\n",
      "9648/9648 [==============================] - 95s 10ms/step - loss: 0.2186 - acc: 0.9210\n",
      "Epoch 80/100\n",
      "9648/9648 [==============================] - 95s 10ms/step - loss: 0.1809 - acc: 0.9313\n",
      "Epoch 81/100\n",
      "9648/9648 [==============================] - 95s 10ms/step - loss: 0.1785 - acc: 0.9315\n",
      "Epoch 82/100\n",
      "9648/9648 [==============================] - 95s 10ms/step - loss: 0.1808 - acc: 0.9294\n",
      "Epoch 83/100\n",
      "9648/9648 [==============================] - 95s 10ms/step - loss: 0.1828 - acc: 0.9292\n",
      "Epoch 84/100\n",
      "9648/9648 [==============================] - 95s 10ms/step - loss: 0.1794 - acc: 0.9288\n",
      "Epoch 85/100\n",
      "9648/9648 [==============================] - 95s 10ms/step - loss: 0.1794 - acc: 0.9308\n",
      "Epoch 86/100\n",
      "9648/9648 [==============================] - 95s 10ms/step - loss: 0.1808 - acc: 0.9298\n",
      "Epoch 87/100\n",
      "9648/9648 [==============================] - 95s 10ms/step - loss: 0.1794 - acc: 0.9289\n",
      "Epoch 88/100\n",
      "9648/9648 [==============================] - 95s 10ms/step - loss: 0.1910 - acc: 0.9272\n",
      "Epoch 89/100\n",
      "9648/9648 [==============================] - 95s 10ms/step - loss: 0.1687 - acc: 0.9327\n",
      "Epoch 90/100\n",
      "9648/9648 [==============================] - 95s 10ms/step - loss: 0.1752 - acc: 0.9339\n",
      "Epoch 91/100\n",
      "9648/9648 [==============================] - 95s 10ms/step - loss: 0.1917 - acc: 0.9268\n",
      "Epoch 92/100\n",
      "9648/9648 [==============================] - 95s 10ms/step - loss: 0.1563 - acc: 0.9351\n",
      "Epoch 93/100\n",
      "9648/9648 [==============================] - 95s 10ms/step - loss: 0.1491 - acc: 0.9376\n",
      "Epoch 94/100\n",
      "9648/9648 [==============================] - 95s 10ms/step - loss: 0.1622 - acc: 0.9345\n",
      "Epoch 95/100\n",
      "9648/9648 [==============================] - 95s 10ms/step - loss: 0.1577 - acc: 0.9343\n",
      "Epoch 96/100\n",
      "9648/9648 [==============================] - 95s 10ms/step - loss: 0.1674 - acc: 0.9308\n",
      "Epoch 97/100\n",
      "9648/9648 [==============================] - 95s 10ms/step - loss: 0.1564 - acc: 0.9369\n",
      "Epoch 98/100\n",
      "9648/9648 [==============================] - 95s 10ms/step - loss: 0.1458 - acc: 0.9365\n",
      "Epoch 99/100\n",
      "9648/9648 [==============================] - 95s 10ms/step - loss: 0.1569 - acc: 0.9359\n",
      "Epoch 100/100\n",
      "9648/9648 [==============================] - 95s 10ms/step - loss: 0.1632 - acc: 0.9359\n"
     ]
    },
    {
     "data": {
      "text/plain": [
       "<keras.callbacks.History at 0x115886dd8>"
      ]
     },
     "execution_count": 18,
     "metadata": {},
     "output_type": "execute_result"
    }
   ],
   "source": [
    "model.fit(X_train, Y_train, epochs=100, batch_size=16, shuffle=True)"
   ]
  },
  {
   "cell_type": "code",
   "execution_count": 19,
   "metadata": {
    "collapsed": false
   },
   "outputs": [
    {
     "name": "stdout",
     "output_type": "stream",
     "text": [
      "2413/2413 [==============================] - 4s 2ms/step\n"
     ]
    },
    {
     "data": {
      "text/plain": [
       "[1.8837584777400547, 0.6937422295897223]"
      ]
     },
     "execution_count": 19,
     "metadata": {},
     "output_type": "execute_result"
    }
   ],
   "source": [
    "model.evaluate(X_test, Y_test)"
   ]
  },
  {
   "cell_type": "code",
   "execution_count": 20,
   "metadata": {
    "collapsed": false
   },
   "outputs": [
    {
     "name": "stdout",
     "output_type": "stream",
     "text": [
      "9648/9648 [==============================] - 18s 2ms/step\n"
     ]
    },
    {
     "data": {
      "text/plain": [
       "[0.11147562611792515, 0.9457918739635157]"
      ]
     },
     "execution_count": 20,
     "metadata": {},
     "output_type": "execute_result"
    }
   ],
   "source": [
    "model.evaluate(X_train, Y_train)"
   ]
  },
  {
   "cell_type": "code",
   "execution_count": 21,
   "metadata": {
    "collapsed": false
   },
   "outputs": [
    {
     "name": "stdout",
     "output_type": "stream",
     "text": [
      "12061/12061 [==============================] - 22s 2ms/step\n"
     ]
    },
    {
     "data": {
      "text/plain": [
       "[0.4660497494038831, 0.8953652267738338]"
      ]
     },
     "execution_count": 21,
     "metadata": {},
     "output_type": "execute_result"
    }
   ],
   "source": [
    "model.evaluate(X_indices, Y_ohe)"
   ]
  },
  {
   "cell_type": "code",
   "execution_count": null,
   "metadata": {
    "collapsed": true
   },
   "outputs": [],
   "source": []
  }
 ],
 "metadata": {
  "anaconda-cloud": {},
  "kernelspec": {
   "display_name": "Python [conda env:udacity]",
   "language": "python",
   "name": "conda-env-udacity-py"
  },
  "language_info": {
   "codemirror_mode": {
    "name": "ipython",
    "version": 3
   },
   "file_extension": ".py",
   "mimetype": "text/x-python",
   "name": "python",
   "nbconvert_exporter": "python",
   "pygments_lexer": "ipython3",
   "version": "3.5.2"
  }
 },
 "nbformat": 4,
 "nbformat_minor": 1
}
